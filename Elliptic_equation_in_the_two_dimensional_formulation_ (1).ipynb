{
  "nbformat": 4,
  "nbformat_minor": 0,
  "metadata": {
    "colab": {
      "provenance": []
    },
    "kernelspec": {
      "name": "python3",
      "display_name": "Python 3"
    },
    "language_info": {
      "name": "python"
    }
  },
  "cells": [
    {
      "cell_type": "code",
      "source": [
        "mesh = UnitSquareMesh (32, 32)\n",
        "V = FunctionSpace (mesh , \"Lagrange\", 1)\n",
        "def boundary(x):\n",
        "return x[0] < DOLFIN_EPS or x[0] > 1.0 − DOLFIN_EPS or \\\n",
        "x[1] < DOLFIN_EPS or x[1] > 1.0 − DOLFIN_EPS\n",
        "g = Constant (0.0)\n",
        "bc = DirichletBC (V, g, boundary)\n",
        "u = TrialFunction (V)\n",
        "v = TestFunction (V)\n",
        "k = Constant (1.0)\n",
        "f = Constant (1.0)\n",
        "a = k * inner(grad(u), grad(v)) * dx\n",
        "L = f * v * dx\n",
        "u = Function(V)\n",
        "solve(a == L, u, bc)\n",
        "file = File(\"poisson.pvd\")\n",
        "file << u"
      ],
      "metadata": {
        "id": "tUF-tvJZKgmK"
      },
      "execution_count": null,
      "outputs": []
    }
  ]
}